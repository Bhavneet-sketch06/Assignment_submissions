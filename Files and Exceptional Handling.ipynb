{
 "cells": [
  {
   "cell_type": "markdown",
   "id": "61ad34c8",
   "metadata": {},
   "source": [
    "Q1.Discuss the scenarios where multithreading is preferable to multiprocessing and scenarios where multiprocessing is a better choice.\n",
    "Ans.Scenarios where multithreading is preferable :\n",
    "Multithreading is generally better suited for tasks that involve I/O-bound operations or require shared memory access.\n",
    "1.I/O Bound Applications : Threads are lightweight and can share memory space, making it easy to handle multiple I/O-bound tasks without significant overhead.\n",
    "2.Real Time or Low Latency  Applications : Threads allow quick context switching and avoid the overhead of process creation, making them ideal for applications where responsiveness is critical.\n",
    "3.Tasks with Shared Data : Threads can easily share data in the same memory space, avoiding the need for inter-process communication (IPC).\n",
    "\n",
    "Snenarios where Multiprocessing is preferable :\n",
    "Multiprocessing is better for CPU-bound tasks or when complete isolation between tasks is required.\n",
    "1.CPU-Bound Applications : Processes run on separate cores and avoid the Global Interpreter Lock (GIL) in languages like Python, allowing true parallelism.\n",
    "2.Tasks Needing Fault Isolation : Processes have independent memory spaces, so a crash in one process won't affect others.\n",
    "3.Long Running Tasks :  Independent processes can operate without depending on a parent process and handle failures better."
   ]
  },
  {
   "cell_type": "markdown",
   "id": "0e0c722c",
   "metadata": {},
   "source": [
    "Q2, Describe what a process pool is and how it helps in managing multiple processes efficiently.\n",
    "Ans.A process pool is a collection of pre-created worker processes that can execute tasks concurrently. It provides a convenient mechanism for managing and reusing a fixed number of processes, avoiding the overhead of creating and destroying processes repeatedly for each task.\n",
    "Working of Process Pool :\n",
    "The pool creates a fixed number of processes (workers) at the start.Then the tasks are submitted to the pool, and the pool assigns them to available worker processes.Accordingly each worker executes its assigned task. Once a worker finishes a task, it becomes available for new tasks.When all tasks are completed, the pool can be closed or terminated.\n",
    "Benefits of using a process pool :\n",
    "1.Limits the number of processes to a predefined value, preventing resource overuse and contention.\n",
    "2.Reusing existing processes saves the overhead of creating and destroying processes repeatedly.\n",
    "3.Pools scale efficiently with the number of CPU cores, allowing better utilization of multi-core systems."
   ]
  },
  {
   "cell_type": "markdown",
   "id": "12dcc874",
   "metadata": {},
   "source": [
    "Q3.Explain what multiprocessing is and why it is used in Python programs.\n",
    "Ans.Multiprocessing is a programming technique that enables a program to run multiple processes simultaneously. Each process runs independently, with its own memory space, allowing parallel execution of tasks. This approach leverages multi-core processors to achieve true parallelism, enhancing performance for CPU-intensive tasks.In Python, the multiprocessing module provides an easy-to-use interface for creating and managing multiple processes.\n",
    "\n",
    "Python has a Global Interpreter Lock (GIL), which limits the execution of threads in a single process to one at a time, even on multi-core systems. This constraint makes multithreading inefficient for CPU-bound tasks in Python.\n",
    "Multiprocessing bypasses the GIL by creating separate processes, each with its own interpreter and memory space. This allows multiple tasks to run on different CPU cores in parallel, making it ideal for CPU-bound applications."
   ]
  },
  {
   "cell_type": "markdown",
   "id": "fd50a0e9",
   "metadata": {},
   "source": [
    "Q4. Write a Python program using multithreading where one thread adds numbers to a list, and another thread removes numbers from the list. Implement a mechanism to avoid race conditions using threading.Lock."
   ]
  },
  {
   "cell_type": "code",
   "execution_count": 1,
   "id": "f558a100",
   "metadata": {},
   "outputs": [
    {
     "name": "stdout",
     "output_type": "stream",
     "text": [
      "Added 1 to the list.\n",
      "Removed 1 from the list.\n",
      "Added 2 to the list.\n",
      "Removed 2 from the list.\n",
      "Added 3 to the list.\n",
      "Added 4 to the list.\n",
      "Removed 3 from the list.\n",
      "Added 5 to the list.\n",
      "Removed 4 from the list.\n",
      "Removed 5 from the list.\n",
      "Final list: []\n"
     ]
    }
   ],
   "source": [
    "import threading\n",
    "import time\n",
    "shared_list = []\n",
    "list_lock = threading.Lock()\n",
    "def add_numbers():\n",
    "    for i in range(1, 6):\n",
    "        with list_lock:  \n",
    "            shared_list.append(i)\n",
    "            print(f\"Added {i} to the list.\")\n",
    "        time.sleep(1)  \n",
    "def remove_numbers():\n",
    "    for _ in range(1, 6):\n",
    "        with list_lock: \n",
    "            if shared_list:\n",
    "                removed = shared_list.pop(0)\n",
    "                print(f\"Removed {removed} from the list.\")\n",
    "            else:\n",
    "                print(\"List is empty, nothing to remove.\")\n",
    "        time.sleep(1.5)  \n",
    "add_thread = threading.Thread(target=add_numbers)\n",
    "remove_thread = threading.Thread(target=remove_numbers)\n",
    "add_thread.start()\n",
    "remove_thread.start()\n",
    "add_thread.join()\n",
    "remove_thread.join()\n",
    "\n",
    "print(\"Final list:\", shared_list)"
   ]
  },
  {
   "cell_type": "markdown",
   "id": "6df0ed5b",
   "metadata": {},
   "source": [
    "Q5.Describe the methods and tools available in Python for safely sharing data between threads and processes.\n",
    "Ans.5. Describe the methods and tools available in Python for safely sharing data between threads and processes.\n",
    "\n",
    "For Threads\n",
    "\n",
    "Threads share the same memory space, so synchronization mechanisms are required to manage shared resources.\n",
    "\n",
    "1.threading.Lock (Mutex)\n",
    "\n",
    "A Lock is a basic synchronization primitive. It ensures that only one thread accesses a shared resource at a time.\n",
    "\n",
    "2.threading.RLock (Reentrant Lock)\n",
    "\n",
    "Similar to Lock, but a thread can acquire it multiple times without getting blocked.\n",
    "\n",
    "3.threading.Semaphore\n",
    "\n",
    "Used to control access to a resource with a limited number of slots.\n",
    "\n",
    "Example: limiting the number of threads accessing a database.\n",
    "\n",
    "4.threading.Condition\n",
    "\n",
    "Useful for threads that need to wait for a specific condition to be met.\n",
    "\n",
    "5.queue.Queue\n",
    "\n",
    "A thread-safe queue for exchanging data between threads.\n",
    "\n",
    "Provides methods like put() and get() which handle locking internally.\n",
    "\n",
    "For Processes\n",
    "\n",
    "Processes do not share memory by default in Python. Tools from the multiprocessing module are used to manage shared data.\n",
    "\n",
    "1. multiprocessing.Manager\n",
    "\n",
    "Provides a way to create shared objects such as lists, dictionaries, and more.\n",
    "\n",
    "2. multiprocessing.Queue\n",
    "\n",
    "A thread-safe and process-safe queue for passing messages between processes.\n",
    "\n",
    "3. multiprocessing.Value and multiprocessing.Array\n",
    "\n",
    "Allow sharing primitive data types and arrays among processes.\n",
    "\n",
    "4. multiprocessing.Lock\n",
    "\n",
    "Similar to threading.Lock, it ensures only one process accesses the shared resource at a time."
   ]
  },
  {
   "cell_type": "markdown",
   "id": "2ffbe65f",
   "metadata": {},
   "source": [
    "Q6.Discuss why it’s crucial to handle exceptions in concurrent programs and the techniques available for doing so.\n",
    "Concurrent programming involves multiple threads or processes running simultaneously. Handling exceptions in such programs is critical because:\n",
    "\n",
    "1. Preventing Program Crashes:\n",
    "\n",
    "An unhandled exception in one thread or process can crash the entire program, disrupting operations.\n",
    "\n",
    "2. Ensuring Resource Cleanup:\n",
    "\n",
    "Resources like files, network connections, and locks may not be released if exceptions aren't properly managed, leading to resource leaks or deadlocks.\n",
    "\n",
    "3. Avoiding Data Corruption:\n",
    "\n",
    "Shared resources can end up in an inconsistent state if an exception occurs while they are being modified.\n",
    "\n",
    "4. Debugging and Monitoring:\n",
    "\n",
    "Exceptions provide valuable information for debugging. Without proper handling, the root cause of issues might remain unknown.\n",
    "\n",
    "5. Maintaining Robustness and Reliability:\n",
    "\n",
    "Properly managing exceptions ensures the application can handle unexpected scenarios gracefully and continue running.\n",
    "\n",
    "Techniques for Handling Exceptions in Concurrent Programs\n",
    "\n",
    "1. Using Try-Except Blocks:\n",
    "\n",
    "Wrap critical sections of code in try-except blocks to catch exceptions and handle them appropriately.\n",
    "\n",
    "2. concurrent.futures Exception Handling:\n",
    "\n",
    "The concurrent.futures module allows capturing exceptions raised by threads or processes.\n",
    "\n",
    "3. Using Callbacks:\n",
    "\n",
    "For frameworks that support callbacks, handle exceptions in callback functions.\n",
    "\n",
    "4. Custom Exception Logging:\n",
    "\n",
    "Log exceptions to monitor errors without crashing the program.\n",
    "\n",
    "5. Fail-Safe Patterns:\n",
    "\n",
    "Use fail-safe approaches to ensure system stability even when exceptions occur, such as retries or fallback logic.\n",
    "\n",
    "6. Graceful Shutdowns:\n",
    "\n",
    "Use try-finally blocks or context managers to ensure resources are cleaned up even when exceptions occur."
   ]
  },
  {
   "cell_type": "markdown",
   "id": "5fcb1002",
   "metadata": {},
   "source": [
    "Q7.Create a program that uses a thread pool to calculate the factorial of numbers from 1 to 10 concurrently. Use concurrent.futures.ThreadPoolExecutor to manage the threads."
   ]
  },
  {
   "cell_type": "code",
   "execution_count": 3,
   "id": "a65da931",
   "metadata": {},
   "outputs": [
    {
     "name": "stdout",
     "output_type": "stream",
     "text": [
      "Factorial of 1 is 1\n",
      "Factorial of 2 is 2\n",
      "Factorial of 3 is 6\n",
      "Factorial of 4 is 24\n",
      "Factorial of 5 is 120\n",
      "Factorial of 6 is 720\n",
      "Factorial of 7 is 5040\n",
      "Factorial of 8 is 40320\n",
      "Factorial of 9 is 362880\n",
      "Factorial of 10 is 3628800\n"
     ]
    }
   ],
   "source": [
    "from concurrent.futures import ThreadPoolExecutor\n",
    "import math\n",
    "def calculate_factorial(n):\n",
    "    result = math.factorial(n)\n",
    "    print(f\"Factorial of {n} is {result}\")\n",
    "    return result\n",
    "if __name__ == \"__main__\":\n",
    "    numbers = range(1, 11)  \n",
    "    with ThreadPoolExecutor() as executor:\n",
    "        executor.map(calculate_factorial, numbers)\n"
   ]
  },
  {
   "cell_type": "markdown",
   "id": "28f95530",
   "metadata": {},
   "source": [
    "Q8. Create a Python program that uses multiprocessing.Pool to compute the square of numbers from 1 to 10 in parallel. Measure the time taken to perform this computation using a pool of different sizes (e.g., 2, 4, 8 processes)."
   ]
  },
  {
   "cell_type": "code",
   "execution_count": null,
   "id": "bfc73b8a",
   "metadata": {},
   "outputs": [],
   "source": [
    "import time\n",
    "from multiprocessing import Pool\n",
    "\n",
    "# Function to compute the square of a number\n",
    "def compute_square(num):\n",
    "    return num ** 2\n",
    "\n",
    "# Function to measure time taken for parallel computation\n",
    "def parallel_square_computation(pool_size, numbers):\n",
    "    print(f\"\\nUsing pool size: {pool_size}\")\n",
    "    start_time = time.time()\n",
    "\n",
    "    # Use multiprocessing Pool\n",
    "    with Pool(pool_size) as pool:\n",
    "        results = pool.map(compute_square, numbers)\n",
    "\n",
    "    end_time = time.time()\n",
    "    elapsed_time = end_time - start_time\n",
    "\n",
    "    print(f\"Squares: {results}\")\n",
    "    print(f\"Time taken with pool size {pool_size}: {elapsed_time:.4f} seconds\")\n",
    "\n",
    "# Logic to run in a Jupyter Notebook cell\n",
    "numbers = list(range(1, 11))  # Numbers from 1 to 10\n",
    "pool_sizes = [2, 4, 8]  # Different pool sizes\n",
    "\n",
    "for pool_size in pool_sizes:\n",
    "    parallel_square_computation(pool_size, numbers)\n"
   ]
  }
 ],
 "metadata": {
  "kernelspec": {
   "display_name": "Python 3",
   "language": "python",
   "name": "python3"
  },
  "language_info": {
   "codemirror_mode": {
    "name": "ipython",
    "version": 3
   },
   "file_extension": ".py",
   "mimetype": "text/x-python",
   "name": "python",
   "nbconvert_exporter": "python",
   "pygments_lexer": "ipython3",
   "version": "3.12.7"
  }
 },
 "nbformat": 4,
 "nbformat_minor": 5
}
